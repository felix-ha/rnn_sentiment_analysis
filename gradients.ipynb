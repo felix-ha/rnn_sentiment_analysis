{
  "nbformat": 4,
  "nbformat_minor": 0,
  "metadata": {
    "colab": {
      "provenance": [],
      "authorship_tag": "ABX9TyOabmd8GVKe/bRDmwfnC0Gt"
    },
    "kernelspec": {
      "name": "python3",
      "display_name": "Python 3"
    },
    "language_info": {
      "name": "python"
    }
  },
  "cells": [
    {
      "cell_type": "code",
      "execution_count": 41,
      "metadata": {
        "id": "-MRBYo8JBN3f"
      },
      "outputs": [],
      "source": [
        "import torch\n",
        "from math import exp"
      ]
    },
    {
      "cell_type": "code",
      "source": [
        "TOL = 1e-5"
      ],
      "metadata": {
        "id": "I0SKYJccEjtV"
      },
      "execution_count": 42,
      "outputs": []
    },
    {
      "cell_type": "code",
      "source": [
        "a = torch.tensor([2.0], requires_grad=True)\n",
        "b = torch.tensor([-0.5], requires_grad=True)\n",
        "x = a * b\n",
        "o = torch.sigmoid(x)\n",
        "f'{x=}'\n",
        "f'{o=}'"
      ],
      "metadata": {
        "colab": {
          "base_uri": "https://localhost:8080/",
          "height": 35
        },
        "id": "LtpvTn00BPMq",
        "outputId": "660741a8-4965-469c-ae2e-bbe15c653384"
      },
      "execution_count": 43,
      "outputs": [
        {
          "output_type": "execute_result",
          "data": {
            "text/plain": [
              "'o=tensor([0.2689], grad_fn=<SigmoidBackward0>)'"
            ],
            "application/vnd.google.colaboratory.intrinsic+json": {
              "type": "string"
            }
          },
          "metadata": {},
          "execution_count": 43
        }
      ]
    },
    {
      "cell_type": "code",
      "source": [
        "o.backward()"
      ],
      "metadata": {
        "id": "DJjS5qlJBpT5"
      },
      "execution_count": 44,
      "outputs": []
    },
    {
      "cell_type": "code",
      "source": [
        "print(f'{a.grad=}')\n",
        "print(f'{b.grad=}')"
      ],
      "metadata": {
        "colab": {
          "base_uri": "https://localhost:8080/"
        },
        "id": "eCRYzaalCARK",
        "outputId": "38022848-db58-46e6-b310-9d46f6db6820"
      },
      "execution_count": 45,
      "outputs": [
        {
          "output_type": "stream",
          "name": "stdout",
          "text": [
            "a.grad=tensor([-0.0983])\n",
            "b.grad=tensor([0.3932])\n"
          ]
        }
      ]
    },
    {
      "cell_type": "code",
      "source": [
        "def sigmoid(x):\n",
        "  return  1  / (1 + exp(-x))\n",
        "\n",
        "def sigmoid_prime(x):\n",
        "  return sigmoid(x) * (1 - sigmoid(x))"
      ],
      "metadata": {
        "id": "MetTvOkRCg8a"
      },
      "execution_count": 46,
      "outputs": []
    },
    {
      "cell_type": "code",
      "source": [
        "# do / dx\n",
        "dodx = sigmoid_prime(a*b)\n",
        "dodx"
      ],
      "metadata": {
        "colab": {
          "base_uri": "https://localhost:8080/"
        },
        "id": "ZMQVsiY4DaFp",
        "outputId": "7b0eb3a6-9530-47cb-a544-e870f74ec5a6"
      },
      "execution_count": 47,
      "outputs": [
        {
          "output_type": "execute_result",
          "data": {
            "text/plain": [
              "0.19661193324148185"
            ]
          },
          "metadata": {},
          "execution_count": 47
        }
      ]
    },
    {
      "cell_type": "code",
      "source": [
        "# do / da = do / dx * dx / da \n",
        "doda = dodx * b\n",
        "\n",
        "# do / db = do / dx * dx / db \n",
        "dodb = dodx * a"
      ],
      "metadata": {
        "id": "SmfPVYxKDzyK"
      },
      "execution_count": 48,
      "outputs": []
    },
    {
      "cell_type": "code",
      "source": [
        "assert abs(doda - a.grad) < TOL\n",
        "assert abs(dodb - b.grad) < TOL"
      ],
      "metadata": {
        "id": "2CupagY0D_EZ"
      },
      "execution_count": 49,
      "outputs": []
    },
    {
      "cell_type": "code",
      "source": [],
      "metadata": {
        "id": "q6Alz0IlEtMV"
      },
      "execution_count": 49,
      "outputs": []
    }
  ]
}